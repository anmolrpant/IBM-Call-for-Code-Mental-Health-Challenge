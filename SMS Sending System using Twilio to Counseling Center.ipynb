{
 "cells": [
  {
   "cell_type": "code",
   "execution_count": null,
   "metadata": {},
   "outputs": [],
   "source": [
    "#Installing twilio in the environment\n",
    "pip install twilio"
   ]
  },
  {
   "cell_type": "code",
   "execution_count": 11,
   "metadata": {},
   "outputs": [],
   "source": [
    "import pandas as pd\n",
    "import math\n",
    "#Importng Twilio Library module on environment\n",
    "from twilio.rest import Client\n",
    "#Admin accoount credential details - Account Sid and Auth Token\n",
    "account_sid = 'Your Account SID'\n",
    "auth_token = 'Your Authorization Token'\n",
    "client = Client(account_sid, auth_token)"
   ]
  },
  {
   "cell_type": "code",
   "execution_count": null,
   "metadata": {},
   "outputs": [],
   "source": [
    "data = pd.read_excel(\"Responses from Survey.xlsx\")\n",
    "counselling_center_number = 'Counselling Center Number'\n",
    "twilio_no = 'Your Twilio Number'"
   ]
  },
  {
   "cell_type": "code",
   "execution_count": null,
   "metadata": {},
   "outputs": [],
   "source": [
    "data.head(2)"
   ]
  },
  {
   "cell_type": "code",
   "execution_count": null,
   "metadata": {},
   "outputs": [],
   "source": [
    "for idx in data.index:\n",
    "    if(pd.isnull(data['Name'][idx])==True):\n",
    "        continue\n",
    "        \n",
    "    elif (pd.isnull(data['Name'][idx])==False):\n",
    "        if (data['Staus'][idx] == \"Needs Assistance\"):\n",
    "            message = client.messages.create(\n",
    "            body='Hi Counselling Center! The student named '+data['Name'][idx]+' with Phone Number '+str(data['Phone'][idx])+' has a low Satisfaction Level and immediate action inrespect to his mental health must be taken.',\n",
    "            from_=twilio_no,\n",
    "            to=counselling_center_number\n",
    "            )\n",
    "        \n",
    "        elif (data['Staus'][idx] == \"Watchlist\"):\n",
    "            message = client.messages.create(\n",
    "            body='Hi Counselling Center! The student named '+data['Name'][idx]+' with Phone Number '+str(data['Phone'][idx])+' has a Watchlist Level and you must be on a lookout for this person and suggest the person ways to improve his mental health',\n",
    "            from_=twilio_no,\n",
    "            to=counselling_center_number\n",
    "            )\n",
    "            \n",
    "        else:\n",
    "            message = client.messages.create(\n",
    "            body='Hi Counselling Center! The student named '+data['Name'][idx]+' with Phone Number '+str(data['Phone'][idx])+' has a Good and Healthy State of Mind',\n",
    "            from_=twilio_no,\n",
    "            to=counselling_center_number\n",
    "            )\n",
    "            "
   ]
  },
  {
   "cell_type": "code",
   "execution_count": null,
   "metadata": {},
   "outputs": [],
   "source": [
    "print(message.sid)"
   ]
  }
 ],
 "metadata": {
  "kernelspec": {
   "display_name": "Python 3",
   "language": "python",
   "name": "python3"
  },
  "language_info": {
   "codemirror_mode": {
    "name": "ipython",
    "version": 3
   },
   "file_extension": ".py",
   "mimetype": "text/x-python",
   "name": "python",
   "nbconvert_exporter": "python",
   "pygments_lexer": "ipython3",
   "version": "3.7.3"
  }
 },
 "nbformat": 4,
 "nbformat_minor": 2
}
